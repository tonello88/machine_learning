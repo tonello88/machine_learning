{
  "nbformat": 4,
  "nbformat_minor": 0,
  "metadata": {
    "colab": {
      "name": "Forest, Features and LightGBM.ipynb",
      "provenance": [],
      "include_colab_link": true
    },
    "kernelspec": {
      "name": "python3",
      "display_name": "Python 3"
    }
  },
  "cells": [
    {
      "cell_type": "markdown",
      "metadata": {
        "id": "view-in-github",
        "colab_type": "text"
      },
      "source": [
        "<a href=\"https://colab.research.google.com/github/thimotyb/real-world-machine-learning/blob/python3/Forest%2C_Features_and_LightGBM.ipynb\" target=\"_parent\"><img src=\"https://colab.research.google.com/assets/colab-badge.svg\" alt=\"Open In Colab\"/></a>"
      ]
    },
    {
      "cell_type": "markdown",
      "metadata": {
        "id": "MJAripWzDzMo",
        "colab_type": "text"
      },
      "source": [
        "# Dimostrazione di valutazione dell'importanza delle feature selezionate nella foresta\n",
        "## Confronto tra classificazione ad albero singolo, random forest e LightGBM\n"
      ]
    },
    {
      "cell_type": "markdown",
      "metadata": {
        "id": "SjPAEh6tEjU4",
        "colab_type": "text"
      },
      "source": [
        "Import SciKit Tree Library and LightGBM Library"
      ]
    },
    {
      "cell_type": "code",
      "metadata": {
        "id": "K-AAeVxODnbw",
        "colab_type": "code",
        "colab": {}
      },
      "source": [
        "from sklearn import tree\n",
        "import pandas\n",
        "import numpy as np\n",
        "import matplotlib.pyplot as plt\n",
        "import lightgbm as lgb # Microsoft lightGBM install with: conda install -c conda-forge lightgbm"
      ],
      "execution_count": 0,
      "outputs": []
    },
    {
      "cell_type": "markdown",
      "metadata": {
        "id": "ZiGYOJy_EoKI",
        "colab_type": "text"
      },
      "source": [
        "My functions to do OHE and do feature engineering on Titanic"
      ]
    },
    {
      "cell_type": "code",
      "metadata": {
        "id": "PMGlN204Dv3l",
        "colab_type": "code",
        "colab": {}
      },
      "source": [
        "def cat_to_num(data):\n",
        "    categories = np.unique(data)\n",
        "    features = {}\n",
        "    for cat in categories:\n",
        "        binary = (data == cat)\n",
        "        features[\"%s=%s\" % (data.name, cat)] = binary.astype(\"int\")\n",
        "    return pandas.DataFrame(features)\n",
        "    \n",
        "def prepare_data(data):\n",
        "    \"\"\"Takes a dataframe of raw data and returns ML model features\n",
        "    \"\"\"\n",
        "    \n",
        "    # Initially, we build a model only on the available numerical values\n",
        "    features = data.drop([\"PassengerId\", \"Survived\", \"Fare\", \"Name\", \"Sex\", \"Ticket\", \"Cabin\", \"Embarked\"], axis=1)\n",
        "    \n",
        "    # Setting missing age values to -1\n",
        "    features[\"Age\"] = data[\"Age\"].fillna(-1)\n",
        "    \n",
        "    # Adding the sqrt of the fare feature\n",
        "    features[\"sqrt_Fare\"] = np.sqrt(data[\"Fare\"])\n",
        "    \n",
        "    # Adding gender categorical value\n",
        "    features = features.join( cat_to_num(data['Sex']) )\n",
        "    \n",
        "    # Adding Embarked categorical value\n",
        "    features = features.join( cat_to_num(data['Embarked'].fillna(\"\")) )\n",
        "    \n",
        "    return features\n"
      ],
      "execution_count": 0,
      "outputs": []
    },
    {
      "cell_type": "markdown",
      "metadata": {
        "id": "ppqQdGe8EfmA",
        "colab_type": "text"
      },
      "source": [
        "Load, split, prepare data"
      ]
    },
    {
      "cell_type": "code",
      "metadata": {
        "id": "E53EOtVxEGRD",
        "colab_type": "code",
        "colab": {}
      },
      "source": [
        "data = pandas.read_csv(\"https://raw.githubusercontent.com/thimotyb/real-world-machine-learning/master/data/titanic.csv\")\n",
        "data_train = data[:int(0.8*len(data))]\n",
        "data_test = data[int(0.8*len(data)):]\n",
        "features = prepare_data(data_train)"
      ],
      "execution_count": 0,
      "outputs": []
    },
    {
      "cell_type": "code",
      "metadata": {
        "id": "AFcvuajTyCl9",
        "colab_type": "code",
        "colab": {
          "base_uri": "https://localhost:8080/",
          "height": 417
        },
        "outputId": "1f759cce-03f8-40bb-b9eb-c33c1841809c"
      },
      "source": [
        "features"
      ],
      "execution_count": 4,
      "outputs": [
        {
          "output_type": "execute_result",
          "data": {
            "text/html": [
              "<div>\n",
              "<style scoped>\n",
              "    .dataframe tbody tr th:only-of-type {\n",
              "        vertical-align: middle;\n",
              "    }\n",
              "\n",
              "    .dataframe tbody tr th {\n",
              "        vertical-align: top;\n",
              "    }\n",
              "\n",
              "    .dataframe thead th {\n",
              "        text-align: right;\n",
              "    }\n",
              "</style>\n",
              "<table border=\"1\" class=\"dataframe\">\n",
              "  <thead>\n",
              "    <tr style=\"text-align: right;\">\n",
              "      <th></th>\n",
              "      <th>Pclass</th>\n",
              "      <th>Age</th>\n",
              "      <th>SibSp</th>\n",
              "      <th>Parch</th>\n",
              "      <th>sqrt_Fare</th>\n",
              "      <th>Sex=female</th>\n",
              "      <th>Sex=male</th>\n",
              "      <th>Embarked=</th>\n",
              "      <th>Embarked=C</th>\n",
              "      <th>Embarked=Q</th>\n",
              "      <th>Embarked=S</th>\n",
              "    </tr>\n",
              "  </thead>\n",
              "  <tbody>\n",
              "    <tr>\n",
              "      <th>0</th>\n",
              "      <td>3</td>\n",
              "      <td>22.0</td>\n",
              "      <td>1</td>\n",
              "      <td>0</td>\n",
              "      <td>2.692582</td>\n",
              "      <td>0</td>\n",
              "      <td>1</td>\n",
              "      <td>0</td>\n",
              "      <td>0</td>\n",
              "      <td>0</td>\n",
              "      <td>1</td>\n",
              "    </tr>\n",
              "    <tr>\n",
              "      <th>1</th>\n",
              "      <td>1</td>\n",
              "      <td>38.0</td>\n",
              "      <td>1</td>\n",
              "      <td>0</td>\n",
              "      <td>8.442944</td>\n",
              "      <td>1</td>\n",
              "      <td>0</td>\n",
              "      <td>0</td>\n",
              "      <td>1</td>\n",
              "      <td>0</td>\n",
              "      <td>0</td>\n",
              "    </tr>\n",
              "    <tr>\n",
              "      <th>2</th>\n",
              "      <td>3</td>\n",
              "      <td>26.0</td>\n",
              "      <td>0</td>\n",
              "      <td>0</td>\n",
              "      <td>2.815138</td>\n",
              "      <td>1</td>\n",
              "      <td>0</td>\n",
              "      <td>0</td>\n",
              "      <td>0</td>\n",
              "      <td>0</td>\n",
              "      <td>1</td>\n",
              "    </tr>\n",
              "    <tr>\n",
              "      <th>3</th>\n",
              "      <td>1</td>\n",
              "      <td>35.0</td>\n",
              "      <td>1</td>\n",
              "      <td>0</td>\n",
              "      <td>7.286975</td>\n",
              "      <td>1</td>\n",
              "      <td>0</td>\n",
              "      <td>0</td>\n",
              "      <td>0</td>\n",
              "      <td>0</td>\n",
              "      <td>1</td>\n",
              "    </tr>\n",
              "    <tr>\n",
              "      <th>4</th>\n",
              "      <td>3</td>\n",
              "      <td>35.0</td>\n",
              "      <td>0</td>\n",
              "      <td>0</td>\n",
              "      <td>2.837252</td>\n",
              "      <td>0</td>\n",
              "      <td>1</td>\n",
              "      <td>0</td>\n",
              "      <td>0</td>\n",
              "      <td>0</td>\n",
              "      <td>1</td>\n",
              "    </tr>\n",
              "    <tr>\n",
              "      <th>...</th>\n",
              "      <td>...</td>\n",
              "      <td>...</td>\n",
              "      <td>...</td>\n",
              "      <td>...</td>\n",
              "      <td>...</td>\n",
              "      <td>...</td>\n",
              "      <td>...</td>\n",
              "      <td>...</td>\n",
              "      <td>...</td>\n",
              "      <td>...</td>\n",
              "      <td>...</td>\n",
              "    </tr>\n",
              "    <tr>\n",
              "      <th>707</th>\n",
              "      <td>1</td>\n",
              "      <td>42.0</td>\n",
              "      <td>0</td>\n",
              "      <td>0</td>\n",
              "      <td>5.127134</td>\n",
              "      <td>0</td>\n",
              "      <td>1</td>\n",
              "      <td>0</td>\n",
              "      <td>0</td>\n",
              "      <td>0</td>\n",
              "      <td>1</td>\n",
              "    </tr>\n",
              "    <tr>\n",
              "      <th>708</th>\n",
              "      <td>1</td>\n",
              "      <td>22.0</td>\n",
              "      <td>0</td>\n",
              "      <td>0</td>\n",
              "      <td>12.310565</td>\n",
              "      <td>1</td>\n",
              "      <td>0</td>\n",
              "      <td>0</td>\n",
              "      <td>0</td>\n",
              "      <td>0</td>\n",
              "      <td>1</td>\n",
              "    </tr>\n",
              "    <tr>\n",
              "      <th>709</th>\n",
              "      <td>3</td>\n",
              "      <td>-1.0</td>\n",
              "      <td>1</td>\n",
              "      <td>1</td>\n",
              "      <td>3.904587</td>\n",
              "      <td>0</td>\n",
              "      <td>1</td>\n",
              "      <td>0</td>\n",
              "      <td>1</td>\n",
              "      <td>0</td>\n",
              "      <td>0</td>\n",
              "    </tr>\n",
              "    <tr>\n",
              "      <th>710</th>\n",
              "      <td>1</td>\n",
              "      <td>24.0</td>\n",
              "      <td>0</td>\n",
              "      <td>0</td>\n",
              "      <td>7.035922</td>\n",
              "      <td>1</td>\n",
              "      <td>0</td>\n",
              "      <td>0</td>\n",
              "      <td>1</td>\n",
              "      <td>0</td>\n",
              "      <td>0</td>\n",
              "    </tr>\n",
              "    <tr>\n",
              "      <th>711</th>\n",
              "      <td>1</td>\n",
              "      <td>-1.0</td>\n",
              "      <td>0</td>\n",
              "      <td>0</td>\n",
              "      <td>5.152669</td>\n",
              "      <td>0</td>\n",
              "      <td>1</td>\n",
              "      <td>0</td>\n",
              "      <td>0</td>\n",
              "      <td>0</td>\n",
              "      <td>1</td>\n",
              "    </tr>\n",
              "  </tbody>\n",
              "</table>\n",
              "<p>712 rows × 11 columns</p>\n",
              "</div>"
            ],
            "text/plain": [
              "     Pclass   Age  SibSp  Parch  ...  Embarked=  Embarked=C  Embarked=Q  Embarked=S\n",
              "0         3  22.0      1      0  ...          0           0           0           1\n",
              "1         1  38.0      1      0  ...          0           1           0           0\n",
              "2         3  26.0      0      0  ...          0           0           0           1\n",
              "3         1  35.0      1      0  ...          0           0           0           1\n",
              "4         3  35.0      0      0  ...          0           0           0           1\n",
              "..      ...   ...    ...    ...  ...        ...         ...         ...         ...\n",
              "707       1  42.0      0      0  ...          0           0           0           1\n",
              "708       1  22.0      0      0  ...          0           0           0           1\n",
              "709       3  -1.0      1      1  ...          0           1           0           0\n",
              "710       1  24.0      0      0  ...          0           1           0           0\n",
              "711       1  -1.0      0      0  ...          0           0           0           1\n",
              "\n",
              "[712 rows x 11 columns]"
            ]
          },
          "metadata": {
            "tags": []
          },
          "execution_count": 4
        }
      ]
    },
    {
      "cell_type": "markdown",
      "metadata": {
        "id": "2tPeUXNcEuBz",
        "colab_type": "text"
      },
      "source": [
        "## First Model: Using a Single Tree Classifier"
      ]
    },
    {
      "cell_type": "code",
      "metadata": {
        "id": "7IfusBm2ELLH",
        "colab_type": "code",
        "outputId": "ccb02cfd-10e6-4840-e281-a1360bde3545",
        "colab": {
          "base_uri": "https://localhost:8080/",
          "height": 52
        }
      },
      "source": [
        "model = tree.DecisionTreeClassifier(max_depth = 4)\n",
        "model.fit(features, data_train[\"Survived\"])\n",
        "print(model.score(prepare_data(data_train), data_train[\"Survived\"]))\n",
        "model.score(prepare_data(data_test), data_test[\"Survived\"])"
      ],
      "execution_count": 5,
      "outputs": [
        {
          "output_type": "stream",
          "text": [
            "0.8117977528089888\n"
          ],
          "name": "stdout"
        },
        {
          "output_type": "execute_result",
          "data": {
            "text/plain": [
              "0.8212290502793296"
            ]
          },
          "metadata": {
            "tags": []
          },
          "execution_count": 5
        }
      ]
    },
    {
      "cell_type": "markdown",
      "metadata": {
        "id": "54pptlrfE_eI",
        "colab_type": "text"
      },
      "source": [
        "## Second Model: Using a Random Forest"
      ]
    },
    {
      "cell_type": "code",
      "metadata": {
        "id": "1AylbtlzE3Ct",
        "colab_type": "code",
        "outputId": "a41077c6-7478-4242-afa7-96179e9f85a5",
        "colab": {
          "base_uri": "https://localhost:8080/",
          "height": 52
        }
      },
      "source": [
        "from sklearn import ensemble # RF is an ensemble category of model\n",
        "forest = ensemble.RandomForestClassifier(n_estimators=10, bootstrap=False, max_features=\"auto\")\n",
        "forest.fit(features, data_train[\"Survived\"])\n",
        "print(forest.score(prepare_data(data_train), data_train[\"Survived\"]))\n",
        "forest.score(prepare_data(data_test), data_test[\"Survived\"])"
      ],
      "execution_count": 6,
      "outputs": [
        {
          "output_type": "stream",
          "text": [
            "0.9817415730337079\n"
          ],
          "name": "stdout"
        },
        {
          "output_type": "execute_result",
          "data": {
            "text/plain": [
              "0.7877094972067039"
            ]
          },
          "metadata": {
            "tags": []
          },
          "execution_count": 6
        }
      ]
    },
    {
      "cell_type": "markdown",
      "metadata": {
        "id": "xRz1Aql03JTM",
        "colab_type": "text"
      },
      "source": [
        "Si possono anche richiedere le predizioni in formato probabilistico, per settare la soglia di conversione del falso/vero positivo"
      ]
    },
    {
      "cell_type": "code",
      "metadata": {
        "id": "Nz4OlkU721Yt",
        "colab_type": "code",
        "colab": {
          "base_uri": "https://localhost:8080/",
          "height": 369
        },
        "outputId": "dc4250cd-cf9c-4ad7-b87e-10f225fdbecc"
      },
      "source": [
        "forest_predict_proba=forest.predict_proba(prepare_data(data_test))\n",
        "forest_predict_proba[:20]"
      ],
      "execution_count": 53,
      "outputs": [
        {
          "output_type": "execute_result",
          "data": {
            "text/plain": [
              "array([[0.9, 0.1],\n",
              "       [0. , 1. ],\n",
              "       [1. , 0. ],\n",
              "       [1. , 0. ],\n",
              "       [0. , 1. ],\n",
              "       [0.3, 0.7],\n",
              "       [1. , 0. ],\n",
              "       [0.9, 0.1],\n",
              "       [0. , 1. ],\n",
              "       [1. , 0. ],\n",
              "       [0. , 1. ],\n",
              "       [1. , 0. ],\n",
              "       [0.9, 0.1],\n",
              "       [1. , 0. ],\n",
              "       [0.4, 0.6],\n",
              "       [0. , 1. ],\n",
              "       [0.3, 0.7],\n",
              "       [0.2, 0.8],\n",
              "       [0. , 1. ],\n",
              "       [0.4, 0.6]])"
            ]
          },
          "metadata": {
            "tags": []
          },
          "execution_count": 53
        }
      ]
    },
    {
      "cell_type": "markdown",
      "metadata": {
        "id": "7BUefXwXGUL0",
        "colab_type": "text"
      },
      "source": [
        "Feature importance in the Random Forest"
      ]
    },
    {
      "cell_type": "code",
      "metadata": {
        "id": "8Le6pdE7KbmA",
        "colab_type": "code",
        "colab": {}
      },
      "source": [
        "# Elenca e visualizza il ranking delle feature usate nelal foresta\n",
        "def show_features(forest, X, y):\n",
        "  importances = forest.feature_importances_\n",
        "\n",
        "  # Calcola deviazione standard per plottare errore\n",
        "  std = np.std([tree.feature_importances_ for tree in forest.estimators_],\n",
        "              axis=0)\n",
        "  indices = np.argsort(importances)[::-1]\n",
        "\n",
        "  # Print the feature ranking\n",
        "  print(\"Feature ranking:\")\n",
        "\n",
        "  for f in range(X.shape[1]):\n",
        "      print(\"%d. feature %s (%f)\" % (indices[f], features.columns[indices[f]], importances[indices[f]]))\n",
        "\n",
        "  # Plot the feature importances of the forest\n",
        "  plt.figure()\n",
        "  plt.title(\"Feature importances\")\n",
        "  plt.bar(range(X.shape[1]), importances[indices],\n",
        "        color=\"r\", yerr=std[indices], align=\"center\")\n",
        "  plt.xticks(range(X.shape[1]), indices)\n",
        "  plt.xlim([-1, X.shape[1]])\n",
        "  plt.show()\n",
        "  "
      ],
      "execution_count": 0,
      "outputs": []
    },
    {
      "cell_type": "code",
      "metadata": {
        "id": "X2l-QRi8FZYA",
        "colab_type": "code",
        "outputId": "5addc383-9912-4938-b3fa-968391b8a679",
        "colab": {
          "base_uri": "https://localhost:8080/",
          "height": 492
        }
      },
      "source": [
        "show_features(forest, features, data_train[\"Survived\"])"
      ],
      "execution_count": 8,
      "outputs": [
        {
          "output_type": "stream",
          "text": [
            "Feature ranking:\n",
            "1. feature Age (0.256934)\n",
            "4. feature sqrt_Fare (0.254737)\n",
            "5. feature Sex=female (0.151557)\n",
            "6. feature Sex=male (0.128216)\n",
            "0. feature Pclass (0.087311)\n",
            "2. feature SibSp (0.056373)\n",
            "3. feature Parch (0.032662)\n",
            "10. feature Embarked=S (0.018015)\n",
            "8. feature Embarked=C (0.008140)\n",
            "9. feature Embarked=Q (0.005747)\n",
            "7. feature Embarked= (0.000308)\n"
          ],
          "name": "stdout"
        },
        {
          "output_type": "display_data",
          "data": {
            "image/png": "[encoded data removed]",
            "text/plain": [
              "<Figure size 432x288 with 1 Axes>"
            ]
          },
          "metadata": {
            "tags": []
          }
        }
      ]
    },
    {
      "cell_type": "markdown",
      "metadata": {
        "id": "SihiKhcJKLJ5",
        "colab_type": "text"
      },
      "source": [
        "Mostra gli Stimatori che sono stati usati per comporre la foresta"
      ]
    },
    {
      "cell_type": "code",
      "metadata": {
        "id": "cIawiZT8GvqT",
        "colab_type": "code",
        "outputId": "f7cb909d-38a1-4ea4-ff21-a518f1d6348e",
        "colab": {
          "base_uri": "https://localhost:8080/",
          "height": 35
        }
      },
      "source": [
        "len(forest.estimators_) # Questo coincide con il numero di stimatori prodotti per popolare la foresta"
      ],
      "execution_count": 9,
      "outputs": [
        {
          "output_type": "execute_result",
          "data": {
            "text/plain": [
              "10"
            ]
          },
          "metadata": {
            "tags": []
          },
          "execution_count": 9
        }
      ]
    },
    {
      "cell_type": "markdown",
      "metadata": {
        "id": "Z3LOY4g7LDU2",
        "colab_type": "text"
      },
      "source": [
        "## Classificazione con una foresta più grande"
      ]
    },
    {
      "cell_type": "code",
      "metadata": {
        "id": "pkpLx3p5JUcT",
        "colab_type": "code",
        "outputId": "1e162ba0-d921-4991-b8c1-ae0fa6a70d29",
        "colab": {
          "base_uri": "https://localhost:8080/",
          "height": 52
        }
      },
      "source": [
        "extraforest = ensemble.ExtraTreesClassifier(n_estimators=100, bootstrap=True)\n",
        "extraforest.fit(features, data_train[\"Survived\"])\n",
        "print(extraforest.score(prepare_data(data_train), data_train[\"Survived\"]))\n",
        "extraforest.score(prepare_data(data_test), data_test[\"Survived\"])"
      ],
      "execution_count": 10,
      "outputs": [
        {
          "output_type": "stream",
          "text": [
            "0.9817415730337079\n"
          ],
          "name": "stdout"
        },
        {
          "output_type": "execute_result",
          "data": {
            "text/plain": [
              "0.8156424581005587"
            ]
          },
          "metadata": {
            "tags": []
          },
          "execution_count": 10
        }
      ]
    },
    {
      "cell_type": "code",
      "metadata": {
        "id": "rbNh7MfOLUAZ",
        "colab_type": "code",
        "outputId": "5f8520bf-53d3-47ef-ffbf-8b3801d19f0b",
        "colab": {
          "base_uri": "https://localhost:8080/",
          "height": 492
        }
      },
      "source": [
        "show_features(extraforest, features, data_train[\"Survived\"])"
      ],
      "execution_count": 11,
      "outputs": [
        {
          "output_type": "stream",
          "text": [
            "Feature ranking:\n",
            "4. feature sqrt_Fare (0.233477)\n",
            "1. feature Age (0.226867)\n",
            "6. feature Sex=male (0.153349)\n",
            "5. feature Sex=female (0.137785)\n",
            "0. feature Pclass (0.105691)\n",
            "2. feature SibSp (0.054460)\n",
            "3. feature Parch (0.050083)\n",
            "10. feature Embarked=S (0.015416)\n",
            "8. feature Embarked=C (0.013992)\n",
            "9. feature Embarked=Q (0.008826)\n",
            "7. feature Embarked= (0.000055)\n"
          ],
          "name": "stdout"
        },
        {
          "output_type": "display_data",
          "data": {
            "image/png": "[encoded data removed]",
            "text/plain": [
              "<Figure size 432x288 with 1 Axes>"
            ]
          },
          "metadata": {
            "tags": []
          }
        }
      ]
    },
    {
      "cell_type": "markdown",
      "metadata": {
        "id": "b2iJj-PsLxxa",
        "colab_type": "text"
      },
      "source": [
        "## Classificazione con LightGBM"
      ]
    },
    {
      "cell_type": "code",
      "metadata": {
        "id": "nB4wkDzsLqnJ",
        "colab_type": "code",
        "colab": {}
      },
      "source": [
        "d_train = lgb.Dataset(features, label=data_train[\"Survived\"])\n",
        "params = {}\n",
        "params['learning_rate'] = 0.003\n",
        "params['boosting_type'] = 'gbdt'\n",
        "params['objective'] = 'binary'\n",
        "params['metric'] = 'binary_logloss'\n",
        "params['sub_feature'] = 0.5\n",
        "params['num_leaves'] = 10\n",
        "params['min_data'] = 50\n",
        "params['max_depth'] = 10\n",
        "clf = lgb.train(params, d_train, 100)"
      ],
      "execution_count": 0,
      "outputs": []
    },
    {
      "cell_type": "code",
      "metadata": {
        "id": "fYfMgukFyLcy",
        "colab_type": "code",
        "colab": {}
      },
      "source": [
        "#Prediction\n",
        "y_pred=clf.predict(prepare_data(data_test))\n",
        "#convert into binary values\n",
        "\n",
        "threshold = .45   # setting threshold\n",
        "\n",
        "for i in range(0,len(y_pred)):\n",
        "    if y_pred[i]>=threshold:       \n",
        "       y_pred[i]=1\n",
        "    else:  \n",
        "       y_pred[i]=0"
      ],
      "execution_count": 0,
      "outputs": []
    },
    {
      "cell_type": "code",
      "metadata": {
        "id": "WFuQW6ORzOoG",
        "colab_type": "code",
        "colab": {
          "base_uri": "https://localhost:8080/",
          "height": 211
        },
        "outputId": "58628d9d-5710-42f2-f410-f0ec9d0e4374"
      },
      "source": [
        "data_test[\"Survived\"]\n",
        "y_pred"
      ],
      "execution_count": 47,
      "outputs": [
        {
          "output_type": "execute_result",
          "data": {
            "text/plain": [
              "array([0., 0., 0., 0., 0., 0., 0., 0., 0., 0., 0., 0., 0., 0., 0., 0., 0.,\n",
              "       0., 0., 0., 0., 0., 0., 0., 0., 0., 0., 0., 0., 0., 0., 0., 0., 0.,\n",
              "       0., 0., 0., 0., 0., 0., 0., 0., 0., 0., 0., 0., 0., 0., 0., 0., 0.,\n",
              "       0., 0., 0., 0., 0., 0., 0., 0., 0., 0., 0., 0., 0., 0., 0., 0., 0.,\n",
              "       0., 0., 0., 0., 0., 0., 0., 0., 0., 0., 0., 0., 0., 0., 0., 0., 0.,\n",
              "       0., 0., 0., 0., 0., 0., 0., 0., 0., 0., 0., 0., 0., 0., 0., 0., 0.,\n",
              "       0., 0., 0., 0., 0., 0., 0., 0., 0., 0., 0., 0., 0., 0., 0., 0., 0.,\n",
              "       0., 0., 0., 0., 0., 0., 0., 0., 0., 0., 0., 0., 0., 0., 0., 0., 0.,\n",
              "       0., 0., 0., 0., 0., 0., 0., 0., 0., 0., 0., 0., 0., 0., 0., 0., 0.,\n",
              "       0., 0., 0., 0., 0., 0., 0., 0., 0., 0., 0., 0., 0., 0., 0., 0., 0.,\n",
              "       0., 0., 0., 0., 0., 0., 0., 0., 0.])"
            ]
          },
          "metadata": {
            "tags": []
          },
          "execution_count": 47
        }
      ]
    },
    {
      "cell_type": "markdown",
      "metadata": {
        "id": "zSLF5XeV1iPU",
        "colab_type": "text"
      },
      "source": [
        "By definition a confusion matrix  is such that Ci,j is equal to the number of observations known to be in group i but predicted to be in group j.\n",
        "\n",
        "Thus in binary classification, the count of true negatives is C0,0 , false negatives is C1,0, true positives is C1,1 and false positives is C0,1."
      ]
    },
    {
      "cell_type": "code",
      "metadata": {
        "id": "mlhQ7rnlykl1",
        "colab_type": "code",
        "colab": {}
      },
      "source": [
        "#Confusion matrix\n",
        "from sklearn.metrics import confusion_matrix\n",
        "cm = confusion_matrix(data_test[\"Survived\"], y_pred)\n",
        "#Accuracy\n",
        "from sklearn.metrics import accuracy_score\n",
        "accuracy=accuracy_score(y_pred,data_test[\"Survived\"])"
      ],
      "execution_count": 0,
      "outputs": []
    },
    {
      "cell_type": "code",
      "metadata": {
        "id": "T7ODroB5y2iT",
        "colab_type": "code",
        "colab": {
          "base_uri": "https://localhost:8080/",
          "height": 87
        },
        "outputId": "cfe0dcb5-1796-4f41-825e-168f34c8853c"
      },
      "source": [
        "print(\"Confusion Matrix:\")\n",
        "print(cm)\n",
        "print(\"Model Accuracy: {0}\".format(accuracy))"
      ],
      "execution_count": 49,
      "outputs": [
        {
          "output_type": "stream",
          "text": [
            "Confusion Matrix:\n",
            "[[115   0]\n",
            " [ 64   0]]\n",
            "Model Accuracy: 0.6424581005586593\n"
          ],
          "name": "stdout"
        }
      ]
    },
    {
      "cell_type": "code",
      "metadata": {
        "id": "KkEpaduDz75P",
        "colab_type": "code",
        "colab": {}
      },
      "source": [
        ""
      ],
      "execution_count": 0,
      "outputs": []
    }
  ]
}