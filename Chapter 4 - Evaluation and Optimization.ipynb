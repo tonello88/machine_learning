{
 "cells": [
  {
   "cell_type": "markdown",
   "metadata": {},
   "source": [
    "# Chapter 4 - Evaluation and Optimization"
   ]
  },
  {
   "cell_type": "code",
   "execution_count": 1,
   "metadata": {},
   "outputs": [
    {
     "name": "stdout",
     "output_type": "stream",
     "text": [
      "Populating the interactive namespace from numpy and matplotlib\n"
     ]
    }
   ],
   "source": [
    "%pylab inline\n",
    "import pandas as pandas"
   ]
  },
  {
   "cell_type": "markdown",
   "metadata": {},
   "source": [
    "We generate two inputs:\n",
    "* features – a matrix of input features\n",
    "* target – an array of target variables corresponding to those features"
   ]
  },
  {
   "cell_type": "code",
   "execution_count": 2,
   "metadata": {},
   "outputs": [],
   "source": [
    "features = rand(100,5)\n",
    "target = rand(100) > 0.5"
   ]
  },
  {
   "cell_type": "markdown",
   "metadata": {},
   "source": [
    "### The holdout method\n",
    "\n",
    "We divide into a randomized training and test set:"
   ]
  },
  {
   "cell_type": "code",
   "execution_count": 3,
   "metadata": {},
   "outputs": [
    {
     "data": {
      "text/plain": [
       "70"
      ]
     },
     "execution_count": 3,
     "metadata": {},
     "output_type": "execute_result"
    }
   ],
   "source": [
    "int(floor(0.7*100))"
   ]
  },
  {
   "cell_type": "code",
   "execution_count": 4,
   "metadata": {},
   "outputs": [],
   "source": [
    "N = features.shape[0]\n",
    "N_train = int(floor(0.7 * N))\n",
    "\n",
    "# Randomize index\n",
    "# Note: sometimes you want to retain the order in the dataset and skip this step\n",
    "# E.g. in the case of time-based datasets where you want to test on 'later' instances\n",
    "idx = random.permutation(N)\n",
    "\n",
    "# Split index\n",
    "idx_train = idx[:N_train]\n",
    "idx_test = idx[N_train:]\n",
    "\n",
    "# Break your data into training and testing subsets\n",
    "features_train = features[idx_train,:]\n",
    "target_train = target[idx_train]\n",
    "features_test = features[idx_test,:]\n",
    "target_test = target[idx_test]\n",
    "\n",
    "# Build, predict, evaluate (to be filled out)\n",
    "# model = train(features_train, target_train)\n",
    "# preds_test = predict(model, features_test)\n",
    "# accuracy = evaluate_acc(preds_test, target_test)"
   ]
  },
  {
   "cell_type": "code",
   "execution_count": 5,
   "metadata": {},
   "outputs": [
    {
     "name": "stdout",
     "output_type": "stream",
     "text": [
      "(70, 5)\n",
      "(30, 5)\n",
      "(70,)\n",
      "(30,)\n"
     ]
    }
   ],
   "source": [
    "print(features_train.shape)\n",
    "print(features_test.shape)\n",
    "print(target_train.shape)\n",
    "print(target_test.shape)"
   ]
  },
  {
   "cell_type": "markdown",
   "metadata": {},
   "source": [
    "### K-fold cross-validation"
   ]
  },
  {
   "cell_type": "code",
   "execution_count": 6,
   "metadata": {},
   "outputs": [
    {
     "name": "stdout",
     "output_type": "stream",
     "text": [
      "[0 5 5 9 0 0 8 1 0 2 6 2 4 8 6 0 9 7 8 2 8 6 1 7 6 6 9 3 6 0 0 8 9 2 5 8 8\n",
      " 4 6 7 5 9 2 9 6 1 0 3 1 4 8 2 6 7 3 3 3 6 8 6 7 1 5 4 2 5 1 4 6 0 6 8 9 1\n",
      " 5 9 2 9 6 2 7 2 0 1 3 1 5 4 8 3 9 5 9 4 6 1 1 7 3 2]\n",
      "Positions of 0 in fold array: [ 0  4  5  8 15 29 30 46 69 82]\n",
      "Positions of 1 in fold array: [ 7 22 45 48 61 66 73 83 85 95 96]\n",
      "Positions of 2 in fold array: [ 9 11 19 33 42 51 64 76 79 81 99]\n",
      "Positions of 3 in fold array: [27 47 54 55 56 84 89 98]\n",
      "Positions of 4 in fold array: [12 37 49 63 67 87 93]\n",
      "Positions of 5 in fold array: [ 1  2 34 40 62 65 74 86 91]\n",
      "Positions of 6 in fold array: [10 14 21 24 25 28 38 44 52 57 59 68 70 78 94]\n",
      "Positions of 7 in fold array: [17 23 39 53 60 80 97]\n",
      "Positions of 8 in fold array: [ 6 13 18 20 31 35 36 50 58 71 88]\n",
      "Positions of 9 in fold array: [ 3 16 26 32 41 43 72 75 77 90 92]\n"
     ]
    }
   ],
   "source": [
    "N = features.shape[0]\n",
    "K = 10 # number of folds\n",
    "\n",
    "preds_kfold = np.empty(N)\n",
    "folds = np.random.randint(0, K, size=N)\n",
    "print(folds)\n",
    "for idx in np.arange(K):\n",
    "\n",
    "    # For each fold, break your data into training and testing subsets\n",
    "    features_train = features[folds != idx,:]\n",
    "    target_train = target[folds != idx]\n",
    "    features_test = features[folds == idx,:]\n",
    "    \n",
    "    # Print the indices in each fold, for inspection\n",
    "    print(\"Positions of \"+str(idx)+\" in fold array: \", end=\"\")\n",
    "    print(nonzero(folds == idx)[0])\n",
    "\n",
    "    # Build and predict for CV fold (to be filled out)\n",
    "    # model = train(features_train, target_train)\n",
    "    # preds_kfold[folds == idx] = predict(model, features_test)\n",
    "    \n",
    "# accuracy = evaluate_acc(preds_kfold, target)"
   ]
  },
  {
   "cell_type": "markdown",
   "metadata": {},
   "source": [
    "### The ROC curve"
   ]
  },
  {
   "cell_type": "code",
   "execution_count": 35,
   "metadata": {},
   "outputs": [],
   "source": [
    "def roc_curve(true_labels, predicted_probs, n_points=100, pos_class=1):\n",
    "    thr = linspace(0,1,n_points)\n",
    "    tpr = zeros(n_points)\n",
    "    fpr = zeros(n_points)\n",
    "\n",
    "    pos = true_labels == pos_class\n",
    "    neg = logical_not(pos)\n",
    "    n_pos = count_nonzero(pos)\n",
    "    n_neg = count_nonzero(neg)\n",
    "      \n",
    "    for i,t in enumerate(thr):\n",
    "        tpr[i] = count_nonzero(logical_and(predicted_probs >= t, pos)) / n_pos\n",
    "        fpr[i] = count_nonzero(logical_and(predicted_probs >= t, neg)) / n_neg\n",
    "    \n",
    "    return fpr, tpr, thr\n"
   ]
  },
  {
   "cell_type": "code",
   "execution_count": 36,
   "metadata": {},
   "outputs": [
    {
     "data": {
      "text/plain": [
       "[<matplotlib.lines.Line2D at 0x1e6a3bf48d0>]"
      ]
     },
     "execution_count": 36,
     "metadata": {},
     "output_type": "execute_result"
    },
    {
     "data": {
      "image/png": "[encoded data removed]",
      "text/plain": [
       "<Figure size 432x288 with 1 Axes>"
      ]
     },
     "metadata": {
      "needs_background": "light"
     },
     "output_type": "display_data"
    }
   ],
   "source": [
    "# Randomly generated predictions should give us a diagonal ROC curve\n",
    "preds = rand(len(target))\n",
    "fpr, tpr, thr = roc_curve(target, preds, pos_class=True)\n",
    "plot(fpr, tpr)"
   ]
  },
  {
   "cell_type": "markdown",
   "metadata": {},
   "source": [
    "### The area under the ROC curve"
   ]
  },
  {
   "cell_type": "code",
   "execution_count": 37,
   "metadata": {},
   "outputs": [],
   "source": [
    "def auc(true_labels, predicted_labels, pos_class=1):\n",
    "    fpr, tpr, thr = roc_curve(true_labels, predicted_labels,\n",
    " pos_class=pos_class)\n",
    "    area = -trapz(tpr, x=fpr)\n",
    "    return area"
   ]
  },
  {
   "cell_type": "code",
   "execution_count": 38,
   "metadata": {},
   "outputs": [
    {
     "data": {
      "text/plain": [
       "0.5091314935064936"
      ]
     },
     "execution_count": 38,
     "metadata": {},
     "output_type": "execute_result"
    }
   ],
   "source": [
    "auc(target, preds, pos_class=True)"
   ]
  },
  {
   "cell_type": "markdown",
   "metadata": {},
   "source": [
    "### Multi-class classification"
   ]
  },
  {
   "cell_type": "code",
   "execution_count": 40,
   "metadata": {},
   "outputs": [],
   "source": [
    "d = pandas.read_csv(\"data/mnist_small.csv\")\n",
    "d_train = d[:int(0.8*len(d))]\n",
    "d_test = d[int(0.8*len(d)):]"
   ]
  },
  {
   "cell_type": "code",
   "execution_count": 41,
   "metadata": {},
   "outputs": [
    {
     "name": "stderr",
     "output_type": "stream",
     "text": [
      "C:\\Users\\thimo\\Anaconda3\\lib\\site-packages\\sklearn\\ensemble\\forest.py:246: FutureWarning: The default value of n_estimators will change from 10 in version 0.20 to 100 in 0.22.\n",
      "  \"10 in version 0.20 to 100 in 0.22.\", FutureWarning)\n"
     ]
    },
    {
     "data": {
      "text/plain": [
       "RandomForestClassifier(bootstrap=True, class_weight=None, criterion='gini',\n",
       "            max_depth=None, max_features='auto', max_leaf_nodes=None,\n",
       "            min_impurity_decrease=0.0, min_impurity_split=None,\n",
       "            min_samples_leaf=1, min_samples_split=2,\n",
       "            min_weight_fraction_leaf=0.0, n_estimators=10, n_jobs=None,\n",
       "            oob_score=False, random_state=None, verbose=0,\n",
       "            warm_start=False)"
      ]
     },
     "execution_count": 41,
     "metadata": {},
     "output_type": "execute_result"
    }
   ],
   "source": [
    "from sklearn.ensemble import RandomForestClassifier\n",
    "rf = RandomForestClassifier()\n",
    "rf.fit(d_train.drop('label', axis=1), d_train['label'])"
   ]
  },
  {
   "cell_type": "code",
   "execution_count": 42,
   "metadata": {},
   "outputs": [],
   "source": [
    "from sklearn.metrics import confusion_matrix\n",
    "preds = rf.predict(d_test.drop('label', axis=1))\n",
    "cm = confusion_matrix(d_test['label'], preds)"
   ]
  },
  {
   "cell_type": "code",
   "execution_count": 43,
   "metadata": {},
   "outputs": [
    {
     "data": {
      "image/png": "[encoded data removed]",
      "text/plain": [
       "<Figure size 288x288 with 2 Axes>"
      ]
     },
     "metadata": {
      "needs_background": "light"
     },
     "output_type": "display_data"
    }
   ],
   "source": [
    "matshow(cm, cmap='Greys')\n",
    "colorbar()\n",
    "savefig(\"figures/figure-4.19.eps\", format='eps')"
   ]
  },
  {
   "cell_type": "markdown",
   "metadata": {},
   "source": [
    "### The root-mean-square error"
   ]
  },
  {
   "cell_type": "code",
   "execution_count": 44,
   "metadata": {},
   "outputs": [],
   "source": [
    "def rmse(true_values, predicted_values):\n",
    "    n = len(true_values)\n",
    "    residuals = 0\n",
    "    for i in range(n):\n",
    "        residuals += (true_values[i] - predicted_values[i])**2.\n",
    "    return np.sqrt(residuals/n)"
   ]
  },
  {
   "cell_type": "code",
   "execution_count": 46,
   "metadata": {},
   "outputs": [
    {
     "data": {
      "text/plain": [
       "0.45249843652505634"
      ]
     },
     "execution_count": 46,
     "metadata": {},
     "output_type": "execute_result"
    }
   ],
   "source": [
    "rmse(rand(10), rand(10))"
   ]
  },
  {
   "cell_type": "markdown",
   "metadata": {},
   "source": [
    "### The R-squared error"
   ]
  },
  {
   "cell_type": "code",
   "execution_count": 47,
   "metadata": {},
   "outputs": [],
   "source": [
    "def r2(true_values, predicted_values):\n",
    "    n = len(true_values)\n",
    "    mean = np.mean(true_values)\n",
    "    residuals = 0\n",
    "    total = 0\n",
    "    for i in range(n):\n",
    "        residuals += (true_values[i] - predicted_values[i])**2.\n",
    "        total += (true_values[i] - mean)**2.\n",
    "    return 1.0 - residuals/total"
   ]
  },
  {
   "cell_type": "code",
   "execution_count": 48,
   "metadata": {},
   "outputs": [
    {
     "data": {
      "text/plain": [
       "0.9914064605577929"
      ]
     },
     "execution_count": 48,
     "metadata": {},
     "output_type": "execute_result"
    }
   ],
   "source": [
    "r2(arange(10)+rand(), arange(10)+rand(10))"
   ]
  },
  {
   "cell_type": "markdown",
   "metadata": {},
   "source": [
    "### Grid search with kernel-SVM model\n",
    "\n",
    "Importing modules:"
   ]
  },
  {
   "cell_type": "code",
   "execution_count": 7,
   "metadata": {},
   "outputs": [],
   "source": [
    "from sklearn.metrics import roc_auc_score\n",
    "from sklearn.svm import SVC"
   ]
  },
  {
   "cell_type": "markdown",
   "metadata": {},
   "source": [
    "Loading data and performang poor-mans feature engineering:"
   ]
  },
  {
   "cell_type": "code",
   "execution_count": 8,
   "metadata": {},
   "outputs": [],
   "source": [
    "d = pandas.read_csv(\"data/titanic.csv\")\n",
    "\n",
    "# Target\n",
    "y = d[\"Survived\"]\n",
    "\n",
    "# Features\n",
    "X = d.drop([\"Survived\", \"PassengerId\", \"Cabin\",\"Ticket\",\"Name\", \"Fare\"], axis=1)\n",
    "X['Sex'] = list(map(lambda x: 1 if x==\"male\" else 0, X['Sex']))\n",
    "X['Embarked-Q'] = list(map(lambda x: 1 if x==\"Q\" else 0, X['Embarked']))\n",
    "X['Embarked-C'] = list(map(lambda x: 1 if x==\"C\" else 0, X['Embarked']))\n",
    "X['Embarked-S'] = list(map(lambda x: 1 if x==\"S\" else 0, X['Embarked']))\n",
    "X = X.drop([\"Embarked\", \"Sex\"], axis=1)\n",
    "X = X.fillna(-1)"
   ]
  },
  {
   "cell_type": "code",
   "execution_count": null,
   "metadata": {},
   "outputs": [],
   "source": []
  },
  {
   "cell_type": "markdown",
   "metadata": {},
   "source": [
    "Performing grid-search to find the optimal hyper-parameters:"
   ]
  },
  {
   "cell_type": "code",
   "execution_count": 9,
   "metadata": {},
   "outputs": [
    {
     "name": "stdout",
     "output_type": "stream",
     "text": [
      "Maximum = 0.639\n",
      "Tuning Parameters: (gamma = 1.02, C = 3.67)\n"
     ]
    }
   ],
   "source": [
    "# grid of (gamma, C) values to try \n",
    "gam_vec, cost_vec = np.meshgrid(np.logspace(0.01, 0.1, 11),\n",
    "                     np.linspace(1, 5, 10))\n",
    "\n",
    "AUC_all = [] # initialize empty array to store AUC results\n",
    "\n",
    "# set up cross-validation folds\n",
    "N = len(y)\n",
    "K = 10 # number of cross-validation folds\n",
    "folds = np.random.randint(0, K, size=N)\n",
    "\n",
    "# search over every value of the grid\n",
    "for param_ind in np.arange(len(gam_vec.ravel())):\n",
    "\n",
    "    # initialize cross-validation predictions\n",
    "    y_cv_pred = np.empty(N)\n",
    "\n",
    "    # loop through the cross-validation folds\n",
    "    for ii in np.arange(K):\n",
    "        # break your data into training and testing subsets\n",
    "        # X_train = X.ix[folds != ii,:]\n",
    "        # y_train = y.ix[folds != ii]\n",
    "        # X_test = X.ix[folds == ii,:]\n",
    "        X_train = X.iloc[folds != ii,:]\n",
    "        y_train = y.iloc[folds != ii]\n",
    "        X_test = X.iloc[folds == ii,:]\n",
    "        #X_train = X.iloc[folds, :]\n",
    "        #X_train = X_train.drop(ii)\n",
    "        #y_train = y.iloc[folds]\n",
    "        #y_train = y.drop(ii)\n",
    "        #X_test = X.iloc[folds, :]\n",
    "        #X_test = X_test[folds == ii]\n",
    "        \n",
    "        # build a model on the training set\n",
    "        model = SVC(gamma=gam_vec.ravel()[param_ind], C=cost_vec.ravel()[param_ind])\n",
    "        model.fit(X_train, y_train)\n",
    "\n",
    "        # generate and store model predictions on the testing set\n",
    "        y_cv_pred[folds == ii] = model.predict(X_test)\n",
    "\n",
    "    # evaluate the AUC of the predictions\n",
    "    AUC_all.append(roc_auc_score(y, y_cv_pred))\n",
    "\n",
    "indmax = np.argmax(AUC_all)\n",
    "print(\"Maximum = %.3f\" % (np.max(AUC_all)))\n",
    "print(\"Tuning Parameters: (gamma = %.2f, C = %.2f)\" % (gam_vec.ravel()[indmax], cost_vec.ravel()[indmax]))"
   ]
  },
  {
   "cell_type": "code",
   "execution_count": 10,
   "metadata": {},
   "outputs": [
    {
     "name": "stdout",
     "output_type": "stream",
     "text": [
      "[4 3 4 5 3 9 4 0 8 4 6 0 3 7 5 3 2 0 5 3 7 9 2 0 8 4 8 2 0 6 8 9 8 4 1 2 6\n",
      " 3 8 3 1 0 3 3 9 7 6 8 0 6 5 0 3 1 2 2 9 6 1 0 2 3 5 6 5 7 1 1 7 0 4 0 6 8\n",
      " 7 9 6 4 7 4 0 1 2 9 5 8 7 5 2 5 6 1 5 3 6 0 0 8 2 0 8 8 6 2 1 3 2 0 2 1 5\n",
      " 1 6 9 9 0 0 5 9 1 9 5 2 0 2 9 5 8 1 5 2 3 6 4 0 9 9 6 6 4 5 5 4 9 5 4 3 2\n",
      " 7 2 6 7 9 1 7 7 1 8 8 3 2 5 3 4 3 0 5 8 6 5 9 1 5 3 1 6 1 7 0 1 7 7 9 3 7\n",
      " 8 9 6 1 8 8 3 1 9 0 9 1 8 7 8 9 4 4 3 4 5 6 2 4 8 7 5 6 2 7 8 5 4 8 2 1 3\n",
      " 1 6 7 5 1 2 0 0 2 6 3 3 5 0 5 5 5 5 1 5 4 2 1 9 3 6 1 2 0 4 4 5 4 2 6 5 4\n",
      " 1 4 6 3 2 5 8 3 9 0 6 6 3 3 0 9 6 2 3 1 4 1 9 1 6 9 2 2 0 5 4 8 8 4 7 4 5\n",
      " 1 0 7 4 7 0 8 0 4 7 2 6 1 0 3 4 2 3 0 3 6 9 8 3 6 5 2 7 3 6 4 4 2 3 0 5 9\n",
      " 7 0 8 6 2 5 9 3 3 8 5 2 7 4 0 6 6 0 1 8 7 8 9 1 9 1 2 8 5 4 6 7 9 9 0 8 6\n",
      " 8 9 6 0 8 1 7 8 2 5 0 3 1 7 4 7 6 4 7 2 2 3 5 0 0 5 2 1 4 5 1 5 3 7 2 3 4\n",
      " 9 0 1 0 0 0 2 1 8 1 9 2 5 8 5 8 1 9 7 2 2 5 2 4 6 3 0 1 0 1 0 3 9 1 0 4 4\n",
      " 2 7 9 8 2 4 9 4 3 6 7 1 3 5 8 1 8 3 2 4 8 6 0 5 4 4 2 8 6 7 6 3 5 3 9 3 2\n",
      " 7 0 6 2 3 3 1 2 9 8 9 8 5 3 6 9 9 3 3 2 5 1 3 9 5 7 5 0 0 8 6 4 4 4 4 8 9\n",
      " 4 6 3 9 5 5 8 8 2 4 2 7 4 0 0 4 1 5 9 0 7 9 6 0 2 4 8 9 8 8 1 7 4 7 6 2 5\n",
      " 9 7 7 4 7 9 7 4 3 3 6 0 9 6 7 1 9 7 2 1 7 7 0 7 3 5 4 4 0 8 0 5 1 4 0 3 7\n",
      " 5 7 0 7 2 3 5 2 6 5 4 7 6 6 8 8 0 1 2 9 0 3 9 3 1 3 7 1 3 7 5 9 4 0 5 7 1\n",
      " 8 4 8 9 5 0 2 0 9 9 4 8 2 2 6 7 4 4 2 6 7 1 7 6 9 7 7 1 9 5 7 1 8 4 4 9 9\n",
      " 2 9 2 7 3 9 9 2 2 2 1 0 8 4 0 4 5 1 4 2 2 6 6 3 2 0 0 1 9 6 3 9 8 2 6 7 5\n",
      " 5 8 8 8 2 9 8 9 7 7 7 4 5 6 4 0 6 7 5 5 9 0 1 4 0 0 7 5 1 5 9 0 6 2 4 9 4\n",
      " 9 7 7 4 1 0 1 5 7 3 7 6 2 3 6 5 1 1 6 5 7 4 2 5 0 6 0 1 5 9 3 7 7 3 4 2 4\n",
      " 1 7 0 2 8 3 0 9 4 9 9 4 4 1 9 6 8 0 3 5 5 1 8 6 5 0 9 3 5 0 7 7 1 1 0 5 7\n",
      " 3 8 2 7 2 3 1 3 4 5 4 9 5 1 0 2 7 3 3 7 4 7 9 9 9 7 0 8 9 3 3 5 7 0 3 7 0\n",
      " 9 6 0 5 4 2 8 4 3 8 2 4 6 2 2 2 6 3 1 3 6 5 1 8 2 4 9 4 6 0 4 2 7 1 5 5 0\n",
      " 0 5 0]\n",
      "    Pclass   Age  SibSp  Parch  Embarked-Q  Embarked-C  Embarked-S\n",
      "0        3  22.0      1      0           0           0           1\n",
      "1        1  38.0      1      0           0           1           0\n",
      "2        3  26.0      0      0           0           0           1\n",
      "3        1  35.0      1      0           0           0           1\n",
      "4        3  35.0      0      0           0           0           1\n",
      "5        3  -1.0      0      0           1           0           0\n",
      "6        1  54.0      0      0           0           0           1\n",
      "7        3   2.0      3      1           0           0           1\n",
      "8        3  27.0      0      2           0           0           1\n",
      "9        2  14.0      1      0           0           1           0\n",
      "10       3   4.0      1      1           0           0           1\n",
      "11       1  58.0      0      0           0           0           1\n",
      "12       3  20.0      0      0           0           0           1\n",
      "13       3  39.0      1      5           0           0           1\n",
      "14       3  14.0      0      0           0           0           1\n",
      "15       2  55.0      0      0           0           0           1\n",
      "17       2  -1.0      0      0           0           0           1\n",
      "18       3  31.0      1      0           0           0           1\n",
      "19       3  -1.0      0      0           0           1           0\n",
      "20       2  35.0      0      0           0           0           1\n",
      "     Pclass   Age  SibSp  Parch  Embarked-Q  Embarked-C  Embarked-S\n",
      "16        3   2.0      4      1           1           0           0\n",
      "22        3  15.0      0      0           1           0           0\n",
      "27        1  19.0      3      2           0           0           1\n",
      "35        1  42.0      1      0           0           0           1\n",
      "54        1  65.0      0      1           0           1           0\n",
      "55        1  -1.0      0      0           0           0           1\n",
      "60        3  22.0      0      0           0           1           0\n",
      "82        3  -1.0      0      0           1           0           0\n",
      "88        1  23.0      3      2           0           0           1\n",
      "98        2  34.0      0      1           0           0           1\n",
      "103       3  33.0      0      0           0           0           1\n",
      "106       3  21.0      0      0           0           0           1\n",
      "108       3  38.0      0      0           0           0           1\n",
      "122       2  32.5      1      0           0           1           0\n",
      "124       1  54.0      0      1           0           0           1\n",
      "130       3  33.0      0      0           0           1           0\n",
      "147       3   9.0      2      2           0           0           1\n",
      "149       2  42.0      0      0           0           0           1\n",
      "160       3  44.0      0      1           0           0           1\n",
      "207       3  26.0      0      0           0           1           0\n"
     ]
    }
   ],
   "source": [
    "ix=2\n",
    "print(folds)\n",
    "# Train subset taking all rows except the ones with index == to the positions of ix in the folds array\n",
    "X_train = X.iloc[folds!=ix,:]\n",
    "print(X_train.head(20))\n",
    "X_test = X.iloc[folds==ix,:]\n",
    "print(X_test.head(20))"
   ]
  },
  {
   "cell_type": "code",
   "execution_count": null,
   "metadata": {},
   "outputs": [],
   "source": []
  },
  {
   "cell_type": "markdown",
   "metadata": {},
   "source": [
    "Plotting the contours of the parameter performance:"
   ]
  },
  {
   "cell_type": "code",
   "execution_count": 11,
   "metadata": {},
   "outputs": [
    {
     "data": {
      "image/png": "[encoded data removed]",
      "text/plain": [
       "<Figure size 432x288 with 2 Axes>"
      ]
     },
     "metadata": {
      "needs_background": "light"
     },
     "output_type": "display_data"
    }
   ],
   "source": [
    "AUC_grid = np.array(AUC_all).reshape(gam_vec.shape)\n",
    "\n",
    "contourf(gam_vec, cost_vec, AUC_grid, 20, cmap='Greys')\n",
    "xlabel(\"kernel coefficient, gamma\")\n",
    "ylabel(\"penalty parameter, C\")\n",
    "colorbar()\n",
    "savefig(\"figures/figure-4.25.eps\", format='eps')"
   ]
  },
  {
   "cell_type": "code",
   "execution_count": null,
   "metadata": {
    "collapsed": true
   },
   "outputs": [],
   "source": []
  }
 ],
 "metadata": {
  "kernelspec": {
   "display_name": "Python 3",
   "language": "python",
   "name": "python3"
  },
  "language_info": {
   "codemirror_mode": {
    "name": "ipython",
    "version": 3
   },
   "file_extension": ".py",
   "mimetype": "text/x-python",
   "name": "python",
   "nbconvert_exporter": "python",
   "pygments_lexer": "ipython3",
   "version": "3.7.1"
  }
 },
 "nbformat": 4,
 "nbformat_minor": 1
}
