{
 "cells": [
  {
   "cell_type": "code",
   "execution_count": 9,
   "metadata": {},
   "outputs": [],
   "source": [
    "# Demo printing and drawing of a decision Tree\n",
    "# (C) Thimoty Barbieri thimoty@thimoty.it oct-2017\n",
    "\n",
    "#from sklearn.tree import DecisionTreeClassifier \n",
    "from sklearn import tree\n",
    "import pandas\n",
    "import numpy as np\n",
    "#import os\n",
    "\n",
    "#os.chdir('C:/Users/thimo/Dropbox/corsi/machine_learning/real-world-machine-learning-master')\n",
    "#os.chdir('./')\n",
    "\n",
    "def tree_to_code(tree, feature_names):\n",
    "    tree_ = tree.tree_\n",
    "    feature_name = [\n",
    "        feature_names[i] if i != -2 else \"undefined!\"\n",
    "        for i in tree_.feature\n",
    "    ]\n",
    "    print(\"def tree({}):\".format(\", \".join(feature_names)))\n",
    "\n",
    "    def recurse(node, depth):\n",
    "        indent = \"  \" * depth\n",
    "        if tree_.feature[node] != -2:\n",
    "            name = feature_name[node]\n",
    "            threshold = tree_.threshold[node]\n",
    "            print(\"{}if {} <= {}:\".format(indent, name, threshold))\n",
    "            recurse(tree_.children_left[node], depth + 1)\n",
    "            print(\"{}else:  # if {} > {}\".format(indent, name, threshold))\n",
    "            recurse(tree_.children_right[node], depth + 1)\n",
    "        else:\n",
    "            print(\"{}return {}\".format(indent, tree_.value[node]))\n",
    "\n",
    "    recurse(0, 1)\n",
    "    \n",
    "def cat_to_num(data):\n",
    "    categories = np.unique(data)\n",
    "    features = {}\n",
    "    for cat in categories:\n",
    "        binary = (data == cat)\n",
    "        features[\"%s=%s\" % (data.name, cat)] = binary.astype(\"int\")\n",
    "    return pandas.DataFrame(features)\n",
    "    \n",
    "def prepare_data(data):\n",
    "    \"\"\"Takes a dataframe of raw data and returns ML model features\n",
    "    \"\"\"\n",
    "    \n",
    "    # Initially, we build a model only on the available numerical values\n",
    "    features = data.drop([\"PassengerId\", \"Survived\", \"Fare\", \"Name\", \"Sex\", \"Ticket\", \"Cabin\", \"Embarked\"], axis=1)\n",
    "    \n",
    "    # Setting missing age values to -1\n",
    "    features[\"Age\"] = data[\"Age\"].fillna(-1)\n",
    "    \n",
    "    # Adding the sqrt of the fare feature\n",
    "    features[\"sqrt_Fare\"] = np.sqrt(data[\"Fare\"])\n",
    "    \n",
    "    # Adding gender categorical value\n",
    "    features = features.join( cat_to_num(data['Sex']) )\n",
    "    \n",
    "    # Adding Embarked categorical value\n",
    "    features = features.join( cat_to_num(data['Embarked'].fillna(\"\")) )\n",
    "    \n",
    "    return features\n"
   ]
  },
  {
   "cell_type": "code",
   "execution_count": 10,
   "metadata": {},
   "outputs": [],
   "source": [
    "data = pandas.read_csv(\"data/titanic.csv\")\n",
    "data[:5]\n",
    "\n",
    "data_train = data[:int(0.8*len(data))]\n",
    "data_test = data[int(0.8*len(data)):]"
   ]
  },
  {
   "cell_type": "code",
   "execution_count": 4,
   "metadata": {},
   "outputs": [
    {
     "data": {
      "text/plain": [
       "DecisionTreeClassifier(class_weight=None, criterion='gini', max_depth=4,\n",
       "            max_features=None, max_leaf_nodes=None,\n",
       "            min_impurity_decrease=0.0, min_impurity_split=None,\n",
       "            min_samples_leaf=1, min_samples_split=2,\n",
       "            min_weight_fraction_leaf=0.0, presort=False, random_state=None,\n",
       "            splitter='best')"
      ]
     },
     "execution_count": 4,
     "metadata": {},
     "output_type": "execute_result"
    }
   ],
   "source": [
    "features = prepare_data(data_train)\n",
    "features[:5]\n",
    "model = tree.DecisionTreeClassifier(max_depth = 4)\n",
    "model.fit(features, data_train[\"Survived\"])"
   ]
  },
  {
   "cell_type": "code",
   "execution_count": 5,
   "metadata": {},
   "outputs": [
    {
     "name": "stdout",
     "output_type": "stream",
     "text": [
      "def tree(Pclass, Age, SibSp, Parch, sqrt_Fare, Sex=female, Sex=male, Embarked=, Embarked=C, Embarked=Q, Embarked=S):\n",
      "  if Sex=female <= 0.5:\n",
      "    if Pclass <= 1.5:\n",
      "      if Age <= 53.0:\n",
      "        if Age <= -0.03999999165534973:\n",
      "          return [[13.  3.]]\n",
      "        else:  # if Age > -0.03999999165534973\n",
      "          return [[34. 31.]]\n",
      "      else:  # if Age > 53.0\n",
      "        if Age <= 75.5:\n",
      "          return [[18.  2.]]\n",
      "        else:  # if Age > 75.5\n",
      "          return [[0. 1.]]\n",
      "    else:  # if Pclass > 1.5\n",
      "      if sqrt_Fare <= 2.8125420808792114:\n",
      "        if Age <= 20.75:\n",
      "          return [[61.  2.]]\n",
      "        else:  # if Age > 20.75\n",
      "          return [[61.  9.]]\n",
      "      else:  # if sqrt_Fare > 2.8125420808792114\n",
      "        if Age <= 13.0:\n",
      "          return [[40. 19.]]\n",
      "        else:  # if Age > 13.0\n",
      "          return [[141.  21.]]\n",
      "  else:  # if Sex=female > 0.5\n",
      "    if Pclass <= 2.5:\n",
      "      if sqrt_Fare <= 5.371784687042236:\n",
      "        if sqrt_Fare <= 5.313115835189819:\n",
      "          return [[ 4. 51.]]\n",
      "        else:  # if sqrt_Fare > 5.313115835189819\n",
      "          return [[1. 0.]]\n",
      "      else:  # if sqrt_Fare > 5.371784687042236\n",
      "        if Parch <= 1.5:\n",
      "          return [[ 0. 66.]]\n",
      "        else:  # if Parch > 1.5\n",
      "          return [[ 2. 11.]]\n",
      "    else:  # if Pclass > 2.5\n",
      "      if sqrt_Fare <= 4.980359792709351:\n",
      "        if Age <= 6.5:\n",
      "          return [[12. 33.]]\n",
      "        else:  # if Age > 6.5\n",
      "          return [[31. 27.]]\n",
      "      else:  # if sqrt_Fare > 4.980359792709351\n",
      "        if sqrt_Fare <= 5.597430229187012:\n",
      "          return [[10.  0.]]\n",
      "        else:  # if sqrt_Fare > 5.597430229187012\n",
      "          return [[6. 2.]]\n",
      "0.8212290502793296\n"
     ]
    }
   ],
   "source": [
    "#print model.decision_path(features)\n",
    "\n",
    "tree_to_code(model, features.columns)\n",
    "print(model.score(prepare_data(data_test), data_test[\"Survived\"]))\n"
   ]
  },
  {
   "cell_type": "code",
   "execution_count": 15,
   "metadata": {},
   "outputs": [
    {
     "ename": "AttributeError",
     "evalue": "module 'sklearn.tree' has no attribute 'export_text'",
     "output_type": "error",
     "traceback": [
      "\u001b[1;31m---------------------------------------------------------------------------\u001b[0m",
      "\u001b[1;31mAttributeError\u001b[0m                            Traceback (most recent call last)",
      "\u001b[1;32m<ipython-input-15-ca0128d30c2e>\u001b[0m in \u001b[0;36m<module>\u001b[1;34m\u001b[0m\n\u001b[0;32m      3\u001b[0m \u001b[1;31m# https://graphviz.readthedocs.io/en/stable/manual.html\u001b[0m\u001b[1;33m\u001b[0m\u001b[1;33m\u001b[0m\u001b[1;33m\u001b[0m\u001b[0m\n\u001b[0;32m      4\u001b[0m \u001b[1;32mfrom\u001b[0m \u001b[0mgraphviz\u001b[0m \u001b[1;32mimport\u001b[0m \u001b[0mrender\u001b[0m\u001b[1;33m\u001b[0m\u001b[1;33m\u001b[0m\u001b[0m\n\u001b[1;32m----> 5\u001b[1;33m \u001b[0mtree\u001b[0m\u001b[1;33m.\u001b[0m\u001b[0mexport_text\u001b[0m\u001b[1;33m(\u001b[0m\u001b[0mmodel\u001b[0m\u001b[1;33m)\u001b[0m\u001b[1;33m\u001b[0m\u001b[1;33m\u001b[0m\u001b[0m\n\u001b[0m\u001b[0;32m      6\u001b[0m \u001b[0mtree\u001b[0m\u001b[1;33m.\u001b[0m\u001b[0mplot_tree\u001b[0m\u001b[1;33m(\u001b[0m\u001b[0mmodel\u001b[0m\u001b[1;33m,\u001b[0m \u001b[0mfilled\u001b[0m\u001b[1;33m=\u001b[0m\u001b[0mtrue\u001b[0m\u001b[1;33m)\u001b[0m\u001b[1;33m\u001b[0m\u001b[1;33m\u001b[0m\u001b[0m\n\u001b[0;32m      7\u001b[0m \u001b[1;31m#tree.export_graphviz(model, out_file=\"titanic_tree.dot\")\u001b[0m\u001b[1;33m\u001b[0m\u001b[1;33m\u001b[0m\u001b[1;33m\u001b[0m\u001b[0m\n",
      "\u001b[1;31mAttributeError\u001b[0m: module 'sklearn.tree' has no attribute 'export_text'"
     ]
    }
   ],
   "source": [
    "# Display tree with graphviz\n",
    "# Needs 'pip install graphviz'\n",
    "# https://graphviz.readthedocs.io/en/stable/manual.html\n",
    "# from graphviz import render\n",
    "# These need scikit >= 0.21\n",
    "tree.export_text(model)\n",
    "tree.plot_tree(model, filled=true)\n",
    "# For scikit <= 0.20\n",
    "#tree.export_graphviz(model, out_file=\"titanic_tree.dot\")\n",
    "#render('dot', 'png', 'titanic_tree.dot')  \n",
    "# convert with  \n",
    "# !dot -Tpng titanic_tree.dot -o titanic_tree.png -Gdpi=600\n",
    "# \"c:\\Program Files (x86)\\Graphviz2.38\"\\bin\\dot -Tpng titanic_tree.dot -o titanic_tree.png -Gdpi=600"
   ]
  },
  {
   "cell_type": "code",
   "execution_count": null,
   "metadata": {},
   "outputs": [],
   "source": []
  }
 ],
 "metadata": {
  "kernelspec": {
   "display_name": "Python 3",
   "language": "python",
   "name": "python3"
  },
  "language_info": {
   "codemirror_mode": {
    "name": "ipython",
    "version": 3
   },
   "file_extension": ".py",
   "mimetype": "text/x-python",
   "name": "python",
   "nbconvert_exporter": "python",
   "pygments_lexer": "ipython3",
   "version": "3.7.1"
  }
 },
 "nbformat": 4,
 "nbformat_minor": 2
}
